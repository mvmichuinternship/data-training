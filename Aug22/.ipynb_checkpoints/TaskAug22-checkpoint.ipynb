{
 "cells": [
  {
   "cell_type": "code",
   "execution_count": 7,
   "id": "d2d9394e-6a82-4daa-8f24-06af91eaeba2",
   "metadata": {},
   "outputs": [],
   "source": [
    "from pyspark.sql import SparkSession\n",
    "from pyspark.sql.functions import col, max, sum, row_number, month, lower\n",
    "from pyspark.sql.window import Window\n",
    "\n",
    "# Initialize Spark session (if not already done)\n",
    "spark = SparkSession.builder.appName(\"CovidDataAnalysis\").getOrCreate()\n"
   ]
  },
  {
   "cell_type": "code",
   "execution_count": 8,
   "id": "c87c30bc-5e85-425d-ae8b-ba83297be661",
   "metadata": {},
   "outputs": [],
   "source": [
    "# Load CSV file\n",
    "df = spark.read.csv('complete.csv', header=True, inferSchema=True)\n"
   ]
  },
  {
   "cell_type": "code",
   "execution_count": 9,
   "id": "ad076085-2000-472e-805f-4594f73ff751",
   "metadata": {},
   "outputs": [
    {
     "name": "stdout",
     "output_type": "stream",
     "text": [
      "Day with maximum Covid cases: 2020-08-06\n",
      "State with second-largest number of Covid cases: maharashtra\n",
      "Union Territory with the least number of deaths: ladakh\n",
      "State with the lowest Death to Total Confirmed cases ratio: puducherry\n",
      "Month with the most new recovered cases: July\n"
     ]
    },
    {
     "ename": "AttributeError",
     "evalue": "show",
     "output_type": "error",
     "traceback": [
      "\u001b[1;31m---------------------------------------------------------------------------\u001b[0m",
      "\u001b[1;31mValueError\u001b[0m                                Traceback (most recent call last)",
      "File \u001b[1;32m~\\AppData\\Local\\Packages\\PythonSoftwareFoundation.Python.3.12_qbz5n2kfra8p0\\LocalCache\\local-packages\\Python312\\site-packages\\pyspark\\sql\\types.py:2391\u001b[0m, in \u001b[0;36mRow.__getattr__\u001b[1;34m(self, item)\u001b[0m\n\u001b[0;32m   2388\u001b[0m \u001b[38;5;28;01mtry\u001b[39;00m:\n\u001b[0;32m   2389\u001b[0m     \u001b[38;5;66;03m# it will be slow when it has many fields,\u001b[39;00m\n\u001b[0;32m   2390\u001b[0m     \u001b[38;5;66;03m# but this will not be used in normal cases\u001b[39;00m\n\u001b[1;32m-> 2391\u001b[0m     idx \u001b[38;5;241m=\u001b[39m \u001b[38;5;28;43mself\u001b[39;49m\u001b[38;5;241;43m.\u001b[39;49m\u001b[43m__fields__\u001b[49m\u001b[38;5;241;43m.\u001b[39;49m\u001b[43mindex\u001b[49m\u001b[43m(\u001b[49m\u001b[43mitem\u001b[49m\u001b[43m)\u001b[49m\n\u001b[0;32m   2392\u001b[0m     \u001b[38;5;28;01mreturn\u001b[39;00m \u001b[38;5;28mself\u001b[39m[idx]\n",
      "\u001b[1;31mValueError\u001b[0m: 'show' is not in list",
      "\nDuring handling of the above exception, another exception occurred:\n",
      "\u001b[1;31mAttributeError\u001b[0m                            Traceback (most recent call last)",
      "Cell \u001b[1;32mIn[9], line 43\u001b[0m\n\u001b[0;32m     40\u001b[0m \u001b[38;5;28mprint\u001b[39m(\u001b[38;5;124mf\u001b[39m\u001b[38;5;124m\"\u001b[39m\u001b[38;5;124mState with the lowest Death to Total Confirmed cases ratio: \u001b[39m\u001b[38;5;132;01m{\u001b[39;00mstate_with_lowest_ratio[\u001b[38;5;124m'\u001b[39m\u001b[38;5;124mName of State / UT\u001b[39m\u001b[38;5;124m'\u001b[39m]\u001b[38;5;132;01m}\u001b[39;00m\u001b[38;5;124m\"\u001b[39m)\n\u001b[0;32m     41\u001b[0m \u001b[38;5;28mprint\u001b[39m(\u001b[38;5;124mf\u001b[39m\u001b[38;5;124m\"\u001b[39m\u001b[38;5;124mMonth with the most new recovered cases: \u001b[39m\u001b[38;5;132;01m{\u001b[39;00mmonth_name\u001b[38;5;132;01m}\u001b[39;00m\u001b[38;5;124m\"\u001b[39m)\n\u001b[1;32m---> 43\u001b[0m \u001b[43mday_with_max_cases\u001b[49m\u001b[38;5;241;43m.\u001b[39;49m\u001b[43mshow\u001b[49m()\n\u001b[0;32m     44\u001b[0m ranked_states\u001b[38;5;241m.\u001b[39mshow()\n\u001b[0;32m     45\u001b[0m least_deaths_ut\u001b[38;5;241m.\u001b[39mshow()\n",
      "File \u001b[1;32m~\\AppData\\Local\\Packages\\PythonSoftwareFoundation.Python.3.12_qbz5n2kfra8p0\\LocalCache\\local-packages\\Python312\\site-packages\\pyspark\\sql\\types.py:2396\u001b[0m, in \u001b[0;36mRow.__getattr__\u001b[1;34m(self, item)\u001b[0m\n\u001b[0;32m   2394\u001b[0m     \u001b[38;5;28;01mraise\u001b[39;00m \u001b[38;5;167;01mAttributeError\u001b[39;00m(item)\n\u001b[0;32m   2395\u001b[0m \u001b[38;5;28;01mexcept\u001b[39;00m \u001b[38;5;167;01mValueError\u001b[39;00m:\n\u001b[1;32m-> 2396\u001b[0m     \u001b[38;5;28;01mraise\u001b[39;00m \u001b[38;5;167;01mAttributeError\u001b[39;00m(item)\n",
      "\u001b[1;31mAttributeError\u001b[0m: show"
     ]
    }
   ],
   "source": [
    "# Convert all state names to lowercase\n",
    "df = df.withColumn('Name of State / UT', lower(col('Name of State / UT')))\n",
    "\n",
    "# 1. The day with the maximum number of COVID-19 cases\n",
    "day_with_max_cases = df.groupBy('Date').agg(max('Total Confirmed cases').alias('max_cases'))\n",
    "day_with_max_cases = day_with_max_cases.orderBy(col('max_cases').desc())\n",
    "day_with_max_cases.show()  # Show DataFrame contents for verification\n",
    "max_day = day_with_max_cases.first()['Date']\n",
    "\n",
    "# 2. The state with the second-largest number of COVID-19 cases\n",
    "window = Window.orderBy(col('Total Confirmed cases').desc())\n",
    "ranked_states = df.withColumn('rank', row_number().over(window))\n",
    "ranked_states.show()  # Show DataFrame contents for verification\n",
    "second_largest_state = ranked_states.filter(col('rank') == 2).select('Name of State / UT').first()\n",
    "\n",
    "# 3. The Union Territory with the least number of deaths\n",
    "least_deaths_ut = df.filter(col('Name of State / UT').isin(['delhi', 'puducherry', 'chandigarh', 'ladakh', 'jammu & kashmir'])) \\\n",
    "                   .groupBy('Name of State / UT') \\\n",
    "                   .agg(sum('Death').alias('total_deaths')) \\\n",
    "                   .orderBy('total_deaths')\n",
    "least_deaths_ut.show()  # Show DataFrame contents for verification\n",
    "least_deaths_ut_row = least_deaths_ut.first()\n",
    "\n",
    "# 4. The state with the lowest Death to Total Confirmed cases ratio\n",
    "ratio_df = df.withColumn('death_to_confirmed_ratio', col('Death') / col('Total Confirmed cases'))\n",
    "ratio_df.show()  # Show DataFrame contents for verification\n",
    "state_with_lowest_ratio = ratio_df.orderBy('death_to_confirmed_ratio').first()\n",
    "\n",
    "# 5. The month with the most new recovered cases\n",
    "df = df.withColumn('month', month('Date'))\n",
    "monthly_recovered = df.groupBy('month').agg(sum('New recovered').alias('total_recovered'))\n",
    "monthly_recovered.show()  # Show DataFrame contents for verification\n",
    "month_with_max_recovered = monthly_recovered.orderBy(col('total_recovered').desc()).first()\n",
    "\n",
    "# Convert month number to name\n",
    "month_mapping = {\n",
    "    1: 'January', 2: 'February', 3: 'March', 4: 'April', 5: 'May', 6: 'June',\n",
    "    7: 'July', 8: 'August', 9: 'September', 10: 'October', 11: 'November', 12: 'December'\n",
    "}\n",
    "month_name = month_mapping.get(month_with_max_recovered['month'], 'Unknown')\n",
    "\n",
    "# Print results\n",
    "print(f\"Day with maximum Covid cases: {max_day}\")\n",
    "print(f\"State with second-largest number of Covid cases: {second_largest_state['Name of State / UT']}\")\n",
    "print(f\"Union Territory with the least number of deaths: {least_deaths_ut_row['Name of State / UT']}\")\n",
    "print(f\"State with the lowest Death to Total Confirmed cases ratio: {state_with_lowest_ratio['Name of State / UT']}\")\n",
    "print(f\"Month with the most new recovered cases: {month_name}\")"
   ]
  },
  {
   "cell_type": "code",
   "execution_count": null,
   "id": "878d6b27-aa68-40fe-98f3-374fea1bf829",
   "metadata": {},
   "outputs": [],
   "source": []
  }
 ],
 "metadata": {
  "kernelspec": {
   "display_name": "Python 3 (ipykernel)",
   "language": "python",
   "name": "python3"
  },
  "language_info": {
   "codemirror_mode": {
    "name": "ipython",
    "version": 3
   },
   "file_extension": ".py",
   "mimetype": "text/x-python",
   "name": "python",
   "nbconvert_exporter": "python",
   "pygments_lexer": "ipython3",
   "version": "3.12.5"
  }
 },
 "nbformat": 4,
 "nbformat_minor": 5
}
