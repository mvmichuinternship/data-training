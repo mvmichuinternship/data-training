{
 "cells": [
  {
   "cell_type": "code",
   "execution_count": 2,
   "id": "d2d9394e-6a82-4daa-8f24-06af91eaeba2",
   "metadata": {},
   "outputs": [],
   "source": [
    "from pyspark.sql import SparkSession\n",
    "from pyspark.sql.functions import col, max, sum, row_number, month, lower\n",
    "from pyspark.sql.window import Window\n",
    "\n",
    "# Initialize Spark session (if not already done)\n",
    "spark = SparkSession.builder.appName(\"CovidDataAnalysis\").getOrCreate()\n"
   ]
  },
  {
   "cell_type": "code",
   "execution_count": 3,
   "id": "c87c30bc-5e85-425d-ae8b-ba83297be661",
   "metadata": {},
   "outputs": [
    {
     "name": "stdout",
     "output_type": "stream",
     "text": [
      "root\n",
      " |-- Date: date (nullable = true)\n",
      " |-- Name of State / UT: string (nullable = true)\n",
      " |-- Latitude: double (nullable = true)\n",
      " |-- Longitude: double (nullable = true)\n",
      " |-- Total Confirmed cases: double (nullable = true)\n",
      " |-- Death: string (nullable = true)\n",
      " |-- Cured/Discharged/Migrated: double (nullable = true)\n",
      " |-- New cases: integer (nullable = true)\n",
      " |-- New deaths: integer (nullable = true)\n",
      " |-- New recovered: integer (nullable = true)\n",
      "\n"
     ]
    }
   ],
   "source": [
    "# Load CSV file\n",
    "df = spark.read.csv('complete.csv', header=True, inferSchema=True)\n",
    "df.printSchema()"
   ]
  },
  {
   "cell_type": "code",
   "execution_count": 10,
   "id": "ad076085-2000-472e-805f-4594f73ff751",
   "metadata": {},
   "outputs": [
    {
     "name": "stdout",
     "output_type": "stream",
     "text": [
      "+----------+\n",
      "|      Date|\n",
      "+----------+\n",
      "|2020-08-06|\n",
      "+----------+\n",
      "\n",
      "Day with maximum Covid cases: [Row(Date=datetime.date(2020, 8, 6))]\n",
      "State with second-largest number of Covid cases: maharashtra\n",
      "Union Territory with the least number of deaths: ladakh\n",
      "State with the lowest Death to Total Confirmed cases ratio: puducherry\n",
      "Month with the most new recovered cases: July\n"
     ]
    }
   ],
   "source": [
    "# 1. Convert all state names to lowercase\n",
    "df = df.withColumn('Name of State / UT', lower(col('Name of State / UT')))\n",
    "\n",
    "# 2. The day with the maximum number of COVID-19 cases\n",
    "# day_with_max_cases = df.groupBy('Date').agg(max('Total Confirmed cases').alias('max_cases'))\n",
    "# day_with_max_cases = day_with_max_cases.orderBy(col('max_cases').desc())\n",
    "# # day_with_max_cases.show() \n",
    "# max_day = day_with_max_cases.first()['Date']\n",
    "\n",
    "max_cases_value = df.agg(max('Total Confirmed cases').alias('max_cases')).first()['max_cases']\n",
    "dates_with_max_cases = df.filter(col('Total Confirmed cases') == max_cases_value).select('Date')\n",
    "dates_with_max_cases.show()  \n",
    "max_cases_dates = dates_with_max_cases.collect()\n",
    "\n",
    "\n",
    "# 3. The state with the second-largest number of COVID-19 cases\n",
    "window = Window.orderBy(col('Total Confirmed cases').desc())\n",
    "ranked_states = df.withColumn('rank', row_number().over(window))\n",
    "# ranked_states.show() \n",
    "second_largest_state = ranked_states.filter(col('rank') == 2).select('Name of State / UT').first()\n",
    "\n",
    "# 4. The Union Territory with the least number of deaths\n",
    "least_deaths_ut = df.filter(col('Name of State / UT').isin(['delhi', 'puducherry', 'chandigarh', 'ladakh', 'jammu & kashmir'])) \\\n",
    "                   .groupBy('Name of State / UT') \\\n",
    "                   .agg(sum('Death').alias('total_deaths')) \\\n",
    "                   .orderBy('total_deaths')\n",
    "# least_deaths_ut.show() \n",
    "least_deaths_ut_row = least_deaths_ut.first()\n",
    "\n",
    "# 5. The state with the lowest Death to Total Confirmed cases ratio\n",
    "ratio_df = df.withColumn('death_to_confirmed_ratio', col('Death') / col('Total Confirmed cases'))\n",
    "# ratio_df.show() \n",
    "state_with_lowest_ratio = ratio_df.orderBy('death_to_confirmed_ratio').first()\n",
    "\n",
    "# 6. The month with the most new recovered cases\n",
    "df = df.withColumn('month', month('Date'))\n",
    "monthly_recovered = df.groupBy('month').agg(sum('New recovered').alias('total_recovered'))\n",
    "# monthly_recovered.show() \n",
    "month_with_max_recovered = monthly_recovered.orderBy(col('total_recovered').desc()).first()\n",
    "\n",
    "# Convert month number to name\n",
    "month_mapping = {\n",
    "    1: 'January', 2: 'February', 3: 'March', 4: 'April', 5: 'May', 6: 'June',\n",
    "    7: 'July', 8: 'August', 9: 'September', 10: 'October', 11: 'November', 12: 'December'\n",
    "}\n",
    "month_name = month_mapping.get(month_with_max_recovered['month'], 'Unknown')\n",
    "\n",
    "# Print results\n",
    "print(f\"Day with maximum Covid cases: {max_cases_dates}\")\n",
    "print(f\"State with second-largest number of Covid cases: {second_largest_state['Name of State / UT']}\")\n",
    "print(f\"Union Territory with the least number of deaths: {least_deaths_ut_row['Name of State / UT']}\")\n",
    "print(f\"State with the lowest Death to Total Confirmed cases ratio: {state_with_lowest_ratio['Name of State / UT']}\")\n",
    "print(f\"Month with the most new recovered cases: {month_name}\")"
   ]
  },
  {
   "cell_type": "code",
   "execution_count": null,
   "id": "878d6b27-aa68-40fe-98f3-374fea1bf829",
   "metadata": {},
   "outputs": [],
   "source": []
  }
 ],
 "metadata": {
  "kernelspec": {
   "display_name": "Python 3 (ipykernel)",
   "language": "python",
   "name": "python3"
  },
  "language_info": {
   "codemirror_mode": {
    "name": "ipython",
    "version": 3
   },
   "file_extension": ".py",
   "mimetype": "text/x-python",
   "name": "python",
   "nbconvert_exporter": "python",
   "pygments_lexer": "ipython3",
   "version": "3.12.5"
  }
 },
 "nbformat": 4,
 "nbformat_minor": 5
}
